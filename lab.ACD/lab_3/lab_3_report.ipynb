{
 "cells": [
  {
   "cell_type": "markdown",
   "id": "e204c2cb-7516-48af-8a6e-94ecbbc91a21",
   "metadata": {},
   "source": [
    "### Лабораторна робота №3\n",
    "#### Виконав: Student Name"
   ]
  },
  {
   "cell_type": "markdown",
   "id": "4a788496-bf3a-40a9-a301-bada866722c5",
   "metadata": {},
   "source": [
    "## Аналіз алгоритмів сортування: методи вставки та бульбашки"
   ]
  },
  {
   "cell_type": "markdown",
   "id": "4b953560-2a5c-46d2-a6db-1ceff45f2087",
   "metadata": {},
   "source": [
    "## 1. Вступ\n",
    "У даній лабораторній роботі досліджуються алгоритми сортування методом вставляння та бульбашки. Метою є аналіз асимптотичної складності даних алгоритмів, реалізація їх на мові Python та порівняння ефективності на основі реального часу виконання."
   ]
  },
  {
   "cell_type": "markdown",
   "id": "9d53980f-5083-421d-b0fa-4bdab76bcf1b",
   "metadata": {},
   "source": [
    "## 2. Налаштування оточення"
   ]
  },
  {
   "cell_type": "code",
   "execution_count": null,
   "id": "227e4cc3-2b96-490c-bbfe-b4a7708ba196",
   "metadata": {},
   "outputs": [],
   "source": [
    "import time\n",
    "import numpy as np\n",
    "import matplotlib.pyplot as plt\n",
    "%matplotlib inline"
   ]
  },
  {
   "cell_type": "markdown",
   "id": "9760594e-5bd3-4841-9c3e-29e94aa13761",
   "metadata": {},
   "source": [
    "## 3. Теоретичні розрахунки асимптотичної складності\n",
    "### Сортування вставками\n",
    "- У гіршому випадку: **O(n²)** (наприклад, масив відсортований у зворотному порядку).\n",
    "- У кращому випадку: **O(n)** (масив вже відсортовано).\n",
    "\n",
    "### Сортування бульбашкою\n",
    "- У гіршому випадку: **O(n²)**.\n",
    "- У кращому випадку: **O(n)**."
   ]
  },
  {
   "cell_type": "markdown",
   "id": "5b2eb89b-4b1b-4eb7-9cb3-9891cdad6065",
   "metadata": {},
   "source": [
    "## 4. Реалізація алгоритмів сортування"
   ]
  },
  {
   "cell_type": "markdown",
   "id": "ca208055-dc53-4635-8de6-5cb9ef21de60",
   "metadata": {},
   "source": [
    "### Сортування вставками"
   ]
  },
  {
   "cell_type": "code",
   "execution_count": null,
   "id": "e3ee12a5-048c-4238-950c-2c579fa940d4",
   "metadata": {},
   "outputs": [],
   "source": [
    "def insertion_sort(arr):\n",
    "    for i in range(1, len(arr)):\n",
    "        key = arr[i]\n",
    "        j = i - 1\n",
    "        while j >= 0 and key < arr[j]:\n",
    "            arr[j + 1] = arr[j]\n",
    "            j -= 1\n",
    "        arr[j + 1] = key\n",
    "    return arr"
   ]
  },
  {
   "cell_type": "markdown",
   "id": "1d83a4b6-3e82-48cb-b2fd-45c9bcc935bc",
   "metadata": {},
   "source": [
    "### Сортування бульбашкою"
   ]
  },
  {
   "cell_type": "code",
   "execution_count": null,
   "id": "6fedb1a0-008e-44c2-a5ba-08fb99321e5c",
   "metadata": {},
   "outputs": [],
   "source": [
    "def bubble_sort(arr):\n",
    "    n = len(arr)\n",
    "    for i in range(n):\n",
    "        for j in range(0, n - i - 1):\n",
    "            if arr[j] > arr[j + 1]:\n",
    "                arr[j], arr[j + 1] = arr[j + 1], arr[j]\n",
    "    return arr"
   ]
  },
  {
   "cell_type": "markdown",
   "id": "0fed9446-0cff-4366-aeef-0a13b84ab7d3",
   "metadata": {},
   "source": [
    "## 5. Порівняння ефективності алгоритмів"
   ]
  },
  {
   "cell_type": "code",
   "execution_count": null,
   "id": "d88cab88-1a29-480e-9334-f611db01f128",
   "metadata": {},
   "outputs": [],
   "source": [
    "sizes = [5, 10, 50, 100, 500, 1000, 2000, 3000, 4000, 5000, 10000, 20000, 50000]\n",
    "insert_times = []\n",
    "bubble_times = []\n",
    "\n",
    "for n in sizes:\n",
    "    data = np.random.randint(0, 100000, n)\n",
    "    \n",
    "    start = time.time()\n",
    "    insertion_sort(data.copy())\n",
    "    insert_times.append(time.time() - start)\n",
    "    \n",
    "    start = time.time()\n",
    "    bubble_sort(data.copy())\n",
    "    bubble_times.append(time.time() - start)"
   ]
  },
  {
   "cell_type": "code",
   "execution_count": null,
   "id": "f0f622ff-210d-4a67-9ced-e86940360b31",
   "metadata": {},
   "outputs": [],
   "source": [
    "plt.figure(figsize=(10, 5))\n",
    "plt.plot(sizes, insert_times, label='Insertion Sort')\n",
    "plt.plot(sizes, bubble_times, label='Bubble Sort')\n",
    "plt.xlabel('Розмір масиву (n)')\n",
    "plt.ylabel('Час виконання (сек)')\n",
    "plt.title('Порівняння часу виконання алгоритмів сортування')\n",
    "plt.legend()\n",
    "plt.grid(True)\n",
    "plt.show()"
   ]
  },
  {
   "cell_type": "markdown",
   "id": "aca3b988-88b2-420d-bd69-b9fe6382d166",
   "metadata": {},
   "source": [
    "## 6. Висновки\n",
    "Сортування вставками виявилося швидшим за бульбашкове сортування на малих і середніх розмірах масивів. Обидва алгоритми показали квадратичну складність, що робить їх неефективними для великих обсягів даних. Графіки підтвердили теоретичні оцінки часової складності."
   ]
  },
  {
   "cell_type": "markdown",
   "id": "06975cb2-3827-4f2f-9f15-f508c789016a",
   "metadata": {},
   "source": [
    "## 7. Відповіді на контрольні питання\n",
    "1. **O-нотація** описує верхню межу складності алгоритму, а **Ω-нотація** — нижню межу.\n",
    "2. У найкращому випадку (масив вже відсортовано) сортування вставками працює за **O(n)**, оскільки внутрішній цикл майже не виконується.\n",
    "3. **Ефективний алгоритм** — це алгоритм, який виконує поставлене завдання з мінімальними витратами ресурсів (часу, памʼяті).\n",
    "4. **Головний параметр (розмір) завдання** — це характеристика вхідних даних, що найбільше впливає на складність алгоритму (наприклад, кількість елементів у масиві).\n",
    "5. Для F(N) = N³ + 7N² − 14N, найвищий степінь — N³, тому **O(N³)**."
   ]
  }
 ],
 "metadata": {
  "kernelspec": {
   "display_name": "Python 3",
   "language": "python",
   "name": "python3"
  },
  "language_info": {
   "name": "python",
   "version": "3.x"
  }
 },
 "nbformat": 4,
 "nbformat_minor": 5
}