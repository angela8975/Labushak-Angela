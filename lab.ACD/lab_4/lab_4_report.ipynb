{
 "cells": [
  {
   "cell_type": "markdown",
   "id": "ff45a7b7",
   "metadata": {},
   "source": [
    "### Лабораторна робота №4\n",
    "#### Виконав: Прізвище Ім’я (Група)"
   ]
  },
  {
   "cell_type": "markdown",
   "id": "341424b2",
   "metadata": {},
   "source": [
    "## Тема: Рекурсія. Стратегія «розділяй і володарюй»\n",
    "**Виконала: Лабущак Анжела**\n",
    "\n",
    "**Група: КН-24-1**\n",
    "\n",
    "Мета: засвоїти технологію реалізації рекурсивних алгоритмів засобами Python і оцінювання їх складності з використанням головної теореми рекурсії."
   ]
  },
  {
   "cell_type": "markdown",
   "id": "3d48c3bf",
   "metadata": {},
   "source": [
    "## 1. Налаштування середовища"
   ]
  },
  {
   "cell_type": "code",
   "execution_count": 6,
   "id": "48e3d42a",
   "metadata": {},
   "outputs": [],
   "source": [
    "import time\n",
    "import math\n",
    "import matplotlib.pyplot as plt\n",
    "import numpy as np\n",
    "%matplotlib inline"
   ]
  },
  {
   "cell_type": "markdown",
   "id": "d90011d5",
   "metadata": {},
   "source": [
    "## 2. Обчислення факторіала: цикл"
   ]
  },
  {
   "cell_type": "code",
   "execution_count": 8,
   "id": "b8246650",
   "metadata": {},
   "outputs": [
    {
     "data": {
      "text/plain": [
       "120"
      ]
     },
     "execution_count": 8,
     "metadata": {},
     "output_type": "execute_result"
    }
   ],
   "source": [
    "def fac_loop(n):\n",
    "    factorial = 1\n",
    "    for i in range(1, n+1):\n",
    "        factorial *= i\n",
    "    return factorial\n",
    "\n",
    "fac_loop(5)"
   ]
  },
  {
   "cell_type": "markdown",
   "id": "1ffdff18",
   "metadata": {},
   "source": [
    "## 3. Обчислення факторіала: рекурсія"
   ]
  },
  {
   "cell_type": "code",
   "execution_count": 10,
   "id": "a41a7a7e",
   "metadata": {},
   "outputs": [
    {
     "data": {
      "text/plain": [
       "120"
      ]
     },
     "execution_count": 10,
     "metadata": {},
     "output_type": "execute_result"
    }
   ],
   "source": [
    "def fac_recursive(n):\n",
    "    if n == 0:\n",
    "        return 1\n",
    "    return n * fac_recursive(n - 1)\n",
    "\n",
    "fac_recursive(5)"
   ]
  },
  {
   "cell_type": "markdown",
   "id": "065e3e75",
   "metadata": {},
   "source": [
    "## 4. Рекурсивне обчислення чисел Фібоначчі"
   ]
  },
  {
   "cell_type": "code",
   "execution_count": 12,
   "id": "31b4f83c",
   "metadata": {},
   "outputs": [
    {
     "data": {
      "text/plain": [
       "55"
      ]
     },
     "execution_count": 12,
     "metadata": {},
     "output_type": "execute_result"
    }
   ],
   "source": [
    "def fibonacci(n):\n",
    "    if n == 0:\n",
    "        return 0\n",
    "    elif n in (1, 2):\n",
    "        return 1\n",
    "    return fibonacci(n-1) + fibonacci(n-2)\n",
    "\n",
    "fibonacci(10)"
   ]
  },
  {
   "cell_type": "markdown",
   "id": "31f7310d",
   "metadata": {},
   "source": [
    "## 5. Сортування злиттям"
   ]
  },
  {
   "cell_type": "code",
   "execution_count": 14,
   "id": "2b40f350",
   "metadata": {},
   "outputs": [
    {
     "data": {
      "text/plain": [
       "[1, 2, 3, 4, 5, 6, 7, 8]"
      ]
     },
     "execution_count": 14,
     "metadata": {},
     "output_type": "execute_result"
    }
   ],
   "source": [
    "def merge(left, right):\n",
    "    result = []\n",
    "    i, j = 0, 0\n",
    "    while i < len(left) and j < len(right):\n",
    "        if left[i] <= right[j]:\n",
    "            result.append(left[i])\n",
    "            i += 1\n",
    "        else:\n",
    "            result.append(right[j])\n",
    "            j += 1\n",
    "    result += left[i:]\n",
    "    result += right[j:]\n",
    "    return result\n",
    "\n",
    "def mergesort(lst):\n",
    "    if len(lst) < 2:\n",
    "        return lst\n",
    "    middle = len(lst) // 2\n",
    "    left = mergesort(lst[:middle])\n",
    "    right = mergesort(lst[middle:])\n",
    "    return merge(left, right)\n",
    "\n",
    "mergesort([6, 5, 3, 1, 8, 7, 2, 4])"
   ]
  },
  {
   "cell_type": "markdown",
   "id": "b88fc3f2",
   "metadata": {},
   "source": [
    "## 6. Відповіді на контрольні питання\n",
    "1. **Ω-нотація** — нижня межа складності алгоритму. Показує найкращий можливий випадок.\n",
    "2. **O(N³)** — домінантний доданок (N³).\n",
    "3. **O(N¹⁰)** — максимальна ступінь.\n",
    "4. **O(N¹․³)** — логарифмічний доданок ігнорується.\n",
    "5. **Розпаралелювання** — розбиття задачі на підзадачі для одночасного виконання. З алгоритмів: merge sort.\n",
    "6. **Методи:** алгоритмічна оптимізація, кешування, паралелізм. Найефективніший — зміна алгоритму."
   ]
  }
 ],
 "metadata": {
  "kernelspec": {
   "display_name": "Python [conda env:base] *",
   "language": "python",
   "name": "conda-base-py"
  },
  "language_info": {
   "codemirror_mode": {
    "name": "ipython",
    "version": 3
   },
   "file_extension": ".py",
   "mimetype": "text/x-python",
   "name": "python",
   "nbconvert_exporter": "python",
   "pygments_lexer": "ipython3",
   "version": "3.12.7"
  }
 },
 "nbformat": 4,
 "nbformat_minor": 5
}
