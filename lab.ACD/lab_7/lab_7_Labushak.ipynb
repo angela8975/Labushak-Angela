{
 "cells": [
  {
   "cell_type": "markdown",
   "id": "4fab0f30-8dcf-40ab-a651-ace3a85efadc",
   "metadata": {},
   "source": [
    "# Лабораторна робота №7\n",
    "## Тема: Структури даних дерево, купа, геш-таблиця"
   ]
  },
  {
   "cell_type": "markdown",
   "id": "c6d8f83e-569c-4ebb-ba90-16f40deccd21",
   "metadata": {},
   "source": [
    "#### Виконала: Лабущак Анжела  \n",
    "#### Група: КН-24-1  "
   ]
  },
  {
   "cell_type": "markdown",
   "id": "a345dbdc-6ace-4d02-9381-5ca3a668956c",
   "metadata": {},
   "source": [
    "## 1. Дерева\n",
    "\n",
    "Двійкове дерево представлено у вигляді списку списків: [root, left_subtree, right_subtree].\n",
    "\n",
    "Функції:"
   ]
  },
  {
   "cell_type": "code",
   "execution_count": 18,
   "id": "066d57da-963e-486b-acef-9b21c8571a63",
   "metadata": {},
   "outputs": [],
   "source": [
    "# Задання вузла бінарного дерева\n",
    "\n",
    "def BinaryTree(r):\n",
    "    return [r, [], []]\n",
    "\n",
    "def insertLeft(root, newBranch):\n",
    "    t = root.pop(1)\n",
    "    if len(t) > 1:\n",
    "        root.insert(1, [newBranch, t, []])\n",
    "    else:\n",
    "        root.insert(1, [newBranch, [], []])\n",
    "    return root\n",
    "\n",
    "def insertRight(root, newBranch):\n",
    "    t = root.pop(2)\n",
    "    if len(t) > 1:\n",
    "        root.insert(2, [newBranch, [], t])\n",
    "    else:\n",
    "        root.insert(2, [newBranch, [], []])\n",
    "    return root\n",
    "\n",
    "def getRootVal(root):\n",
    "    return root[0]\n",
    "\n",
    "def setRootVal(root, newVal):\n",
    "    root[0] = newVal"
   ]
  },
  {
   "cell_type": "markdown",
   "id": "d7e30df6-13f3-4a74-95e6-cd73a872f7e8",
   "metadata": {},
   "source": [
    "## 2. Купа (Heap)\n",
    "\n",
    "Реалізується як масив з батьківськими та дочірніми вузлами.\n",
    "\n",
    "Основні операції:"
   ]
  },
  {
   "cell_type": "code",
   "execution_count": 21,
   "id": "9312e901-efec-491f-b0c9-d9c220c7b09b",
   "metadata": {},
   "outputs": [],
   "source": [
    "heap = [None]  # індексація з 1\n",
    "currSize = 0\n",
    "\n",
    "def insert(k):\n",
    "    global currSize\n",
    "    heap.append(k)\n",
    "    currSize += 1\n",
    "    i = currSize\n",
    "    while i // 2 > 0:\n",
    "        if heap[i] > heap[i // 2]:\n",
    "            heap[i], heap[i // 2] = heap[i // 2], heap[i]\n",
    "        i = i // 2\n",
    "\n",
    "def extractMax():\n",
    "    global currSize\n",
    "    retval = heap[1]\n",
    "    heap[1] = heap[currSize]\n",
    "    currSize -= 1\n",
    "    heap.pop()\n",
    "    maxHeapify(1)\n",
    "    return retval\n",
    "\n",
    "def maxHeapify(i):\n",
    "    global currSize\n",
    "    while (i * 2) <= currSize:\n",
    "        mc = maxChild(i)\n",
    "        if heap[i] < heap[mc]:\n",
    "            heap[i], heap[mc] = heap[mc], heap[i]\n",
    "        i = mc\n",
    "\n",
    "def maxChild(i):\n",
    "    if i * 2 + 1 > currSize:\n",
    "        return i * 2\n",
    "    else:\n",
    "        if heap[i * 2] > heap[i * 2 + 1]:\n",
    "            return i * 2\n",
    "        else:\n",
    "            return i * 2 + 1"
   ]
  },
  {
   "cell_type": "markdown",
   "id": "053c7b20-12f4-42e9-b78c-8168163c281c",
   "metadata": {},
   "source": [
    "## 3. Геш-таблиця\n",
    "\n",
    "Структура зберігання пар ключ-значення.\n",
    "\n",
    "Приклад реалізації:"
   ]
  },
  {
   "cell_type": "code",
   "execution_count": 24,
   "id": "2b3b1922-c7d7-4254-a420-72849cbd75ea",
   "metadata": {},
   "outputs": [],
   "source": [
    "class HashTable:\n",
    "    def __init__(self, size):\n",
    "        self.size = size\n",
    "        self.table = [None]*size\n",
    "\n",
    "    def hash_function(self, key):\n",
    "        return key % self.size\n",
    "\n",
    "    def insert(self, key, value):\n",
    "        self.table[self.hash_function(key)] = value\n",
    "\n",
    "    def search(self, key):\n",
    "        return self.table[self.hash_function(key)]\n",
    "\n",
    "    def delete(self, key):\n",
    "        self.table[self.hash_function(key)] = None"
   ]
  },
  {
   "cell_type": "markdown",
   "id": "a4719c65-fba6-46a1-9824-23e9702b6eae",
   "metadata": {},
   "source": [
    "## 1. Реалізація дерева"
   ]
  },
  {
   "cell_type": "code",
   "execution_count": 27,
   "id": "ae6e56e6-66c0-40e4-ab0f-8712ee21693e",
   "metadata": {},
   "outputs": [
    {
     "name": "stdout",
     "output_type": "stream",
     "text": [
      "[3, [5, [4, [], []], []], [7, [], [6, [], []]]]\n"
     ]
    }
   ],
   "source": [
    "r = BinaryTree(3)\n",
    "insertLeft(r, 4)\n",
    "insertLeft(r, 5)\n",
    "insertRight(r, 6)\n",
    "insertRight(r, 7)\n",
    "print(r)"
   ]
  },
  {
   "cell_type": "markdown",
   "id": "815677bc-9c02-4e29-ab0c-00128509ee68",
   "metadata": {},
   "source": [
    "## Видалення гілки:"
   ]
  },
  {
   "cell_type": "code",
   "execution_count": 30,
   "id": "9bd0902c-ffde-4fc5-ba86-f9f22558d6cf",
   "metadata": {},
   "outputs": [],
   "source": [
    "def deleteBranch(tree, branchVal):\n",
    "    if tree == []:\n",
    "        return []\n",
    "    if tree[0] == branchVal:\n",
    "        return []\n",
    "    tree[1] = deleteBranch(tree[1], branchVal)\n",
    "    tree[2] = deleteBranch(tree[2], branchVal)\n",
    "    return tree"
   ]
  },
  {
   "cell_type": "markdown",
   "id": "904cc53b-5d90-4851-9ae9-108b3a0e045f",
   "metadata": {},
   "source": [
    "## 2. Купа"
   ]
  },
  {
   "cell_type": "code",
   "execution_count": 33,
   "id": "dbd9c327-4d77-43d1-9714-58b3c492dbdd",
   "metadata": {},
   "outputs": [
    {
     "name": "stdout",
     "output_type": "stream",
     "text": [
      "Heap after insertions: [None, 40, 30, 15, 10]\n",
      "Max element extracted: 40\n",
      "Heap after extraction: [None, 30, 10, 15]\n"
     ]
    }
   ],
   "source": [
    "heap = [None]\n",
    "currSize = 0\n",
    "insert(10)\n",
    "insert(15)\n",
    "insert(30)\n",
    "insert(40)\n",
    "print(\"Heap after insertions:\", heap)\n",
    "\n",
    "print(\"Max element extracted:\", extractMax())\n",
    "print(\"Heap after extraction:\", heap)"
   ]
  },
  {
   "cell_type": "markdown",
   "id": "0bbea70b-9e78-44d8-90ee-70473cc126f1",
   "metadata": {},
   "source": [
    "## 3. Геш-таблиця"
   ]
  },
  {
   "cell_type": "code",
   "execution_count": 36,
   "id": "f2c1410d-dc7e-4732-9a22-e84269a49a72",
   "metadata": {},
   "outputs": [
    {
     "name": "stdout",
     "output_type": "stream",
     "text": [
      "Search key 1: banana\n",
      "Search key 11: banana\n",
      "After deletion: None\n"
     ]
    }
   ],
   "source": [
    "ht = HashTable(10)\n",
    "ht.insert(1, \"apple\")\n",
    "ht.insert(11, \"banana\")\n",
    "print(\"Search key 1:\", ht.search(1))\n",
    "print(\"Search key 11:\", ht.search(11))\n",
    "ht.delete(1)\n",
    "print(\"After deletion:\", ht.search(1))"
   ]
  },
  {
   "cell_type": "markdown",
   "id": "e46a58a9-005a-480b-9ae5-6cdc8a546b9a",
   "metadata": {},
   "source": [
    "# Контрольні запитання"
   ]
  },
  {
   "cell_type": "markdown",
   "id": "bbd4548b-08fe-4783-9315-3e9ca405fb44",
   "metadata": {},
   "source": [
    "1.Чим відрізняється бінарне дерево від бінарного дерева пошуку?\n",
    "\n",
    "В БДП ліві < корінь < праві. У звичайному БД такого обмеження немає.\n",
    "\n",
    "2.Бінарне дерево vs купа: купа — частковий БД з умовою: батько >= дочірні (max-heap).\n",
    "\n",
    "3.Типи дерев: двійкові, n-арні, AVL, червоно-чорні. Відрізняються балансом, ефективністю пошуку.\n",
    "\n",
    "4.Задачі на дерева: пошук у БДП, вирази в синтаксичних деревах.\n",
    "\n",
    "5.Алгоритм insert/delete у купі: додаємо/змінюємо елемент і перебудовуємо купу через heapify.\n",
    "\n",
    "6.Задачі для купи: сортування, пріоритетні черги, алгоритм Дейкстри.\n",
    "\n",
    "7.Геш-функція: обчислює індекс, за яким зберігається значення.\n",
    "\n",
    "8.Колізії: вирішуються ланцюгами або відкритою адресацією. Перевага: простота, недолік: переповнення"
   ]
  },
  {
   "cell_type": "code",
   "execution_count": null,
   "id": "61225d47-0e5e-4748-89cb-a8585b8ad2ee",
   "metadata": {},
   "outputs": [],
   "source": []
  }
 ],
 "metadata": {
  "kernelspec": {
   "display_name": "Python [conda env:base] *",
   "language": "python",
   "name": "conda-base-py"
  },
  "language_info": {
   "codemirror_mode": {
    "name": "ipython",
    "version": 3
   },
   "file_extension": ".py",
   "mimetype": "text/x-python",
   "name": "python",
   "nbconvert_exporter": "python",
   "pygments_lexer": "ipython3",
   "version": "3.12.7"
  }
 },
 "nbformat": 4,
 "nbformat_minor": 5
}
