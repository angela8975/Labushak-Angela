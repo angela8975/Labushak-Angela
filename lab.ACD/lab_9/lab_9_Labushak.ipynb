{
 "cells": [
  {
   "cell_type": "markdown",
   "id": "12ead067-85c0-4915-81db-0a5a016dedee",
   "metadata": {},
   "source": [
    "# Лабораторна робота №9"
   ]
  },
  {
   "cell_type": "markdown",
   "id": "95bbbfc9-fff4-4ce7-b745-cb956144ee96",
   "metadata": {},
   "source": [
    "## Тема: Алгоритми на рядках"
   ]
  },
  {
   "cell_type": "markdown",
   "id": "560a361d-c395-434b-b9da-5e57e7689e79",
   "metadata": {},
   "source": [
    "#### Виконала: Лабущак Анжела  \n",
    "#### Група: КН-24-1  "
   ]
  },
  {
   "cell_type": "markdown",
   "id": "64936ed9-5e3a-44cf-9ea1-95c2cf3fa795",
   "metadata": {},
   "source": [
    "### Теоретичнi вiдомостi (стисло)\n",
    "\n",
    "#### 1. Рядок як структура даних\n",
    "\n",
    "Рядок — послiдовнiсть символiв.\n",
    "\n",
    "Завдання: пошук пiдрядка (pattern matching), аналiз, стиснення.\n",
    "\n",
    "#### 2. Наївний пошук пiдрядка\n",
    "\n",
    "Порiвнює кожну позицiю шаблону з рядком по черзi.\n",
    "\n",
    "Складнiсть: O(n * m), де n — довжина тексту, m — довжина шаблону."
   ]
  },
  {
   "cell_type": "code",
   "execution_count": 5,
   "id": "720ee647-befa-42fc-91ef-6888f0c8be47",
   "metadata": {},
   "outputs": [],
   "source": [
    "def naive_match(p, t):\n",
    "    occurrences = []\n",
    "    for i in range(0, len(t) - len(p) + 1):\n",
    "        match = True\n",
    "        for j in range(0, len(p)):\n",
    "            if t[i + j] != p[j]:\n",
    "                match = False\n",
    "                break\n",
    "        if match:\n",
    "            occurrences.append(i)\n",
    "    return occurrences"
   ]
  },
  {
   "cell_type": "markdown",
   "id": "2d646908-f003-449f-881a-fd72c4e7c8fb",
   "metadata": {},
   "source": [
    "## 3. Z-функцiя\n",
    "Z[i] — довжина найбiльшого префiкса, що збiгається з суфiксом з i-позицiї.\n",
    "\n",
    "Застосовується для:\n",
    "\n",
    "пошуку пiдрядка,\n",
    "\n",
    "стиснення рядка,\n",
    "\n",
    "знаходження повторiв."
   ]
  },
  {
   "cell_type": "code",
   "execution_count": 9,
   "id": "fa19b1d9-0ca8-4aee-9146-716c06ffb68b",
   "metadata": {},
   "outputs": [],
   "source": [
    "def z_func(s):\n",
    "    Z = [0] * len(s)\n",
    "    Z[0] = len(s)\n",
    "    l, r = 0, 0\n",
    "    for i in range(1, len(s)):\n",
    "        if i <= r:\n",
    "            Z[i] = min(r - i + 1, Z[i - l])\n",
    "        while i + Z[i] < len(s) and s[Z[i]] == s[i + Z[i]]:\n",
    "            Z[i] += 1\n",
    "        if i + Z[i] - 1 > r:\n",
    "            l, r = i, i + Z[i] - 1\n",
    "    return Z"
   ]
  },
  {
   "cell_type": "markdown",
   "id": "a9dbb65a-6f39-4997-aebb-fd7150e82eac",
   "metadata": {},
   "source": [
    "## 1. Пошук пiдрядка"
   ]
  },
  {
   "cell_type": "code",
   "execution_count": null,
   "id": "7dcb755e-e9eb-47d8-9c9c-6b4cac4f7ac0",
   "metadata": {},
   "outputs": [],
   "source": [
    "text = \"needleneedleneedle\"\n",
    "pattern = \"needle\"\n",
    "print(naive_match(pattern, text))  # [0, 6, 12]"
   ]
  },
  {
   "cell_type": "markdown",
   "id": "d526d40b-5648-48cd-b7f2-7abd12d5a697",
   "metadata": {},
   "source": [
    "## 2. Z-функцiя"
   ]
  },
  {
   "cell_type": "code",
   "execution_count": 17,
   "id": "2a925966-acba-4995-a5b2-a7b4e6993337",
   "metadata": {},
   "outputs": [
    {
     "name": "stdout",
     "output_type": "stream",
     "text": [
      "[11, 0, 0, 1, 0, 1, 0, 4, 0, 0, 1]\n"
     ]
    }
   ],
   "source": [
    "s = \"abracadabra\"\n",
    "print(z_func(s))"
   ]
  },
  {
   "cell_type": "markdown",
   "id": "58f46a79-af48-4663-905b-412903991cec",
   "metadata": {},
   "source": [
    "## 3. Пошук з використанням Z-функцiї"
   ]
  },
  {
   "cell_type": "code",
   "execution_count": 20,
   "id": "1cf1a45a-fe98-4dc1-b7b3-179a6f788f15",
   "metadata": {},
   "outputs": [
    {
     "name": "stdout",
     "output_type": "stream",
     "text": [
      "[0, 7]\n"
     ]
    }
   ],
   "source": [
    "def z_search(p, t):\n",
    "    s = p + \"$\" + t\n",
    "    z = z_func(s)\n",
    "    res = []\n",
    "    for i in range(len(p) + 1, len(s)):\n",
    "        if z[i] == len(p):\n",
    "            res.append(i - len(p) - 1)\n",
    "    return res\n",
    "\n",
    "print(z_search(\"abra\", \"abracadabra\"))  # [0, 7]"
   ]
  },
  {
   "cell_type": "markdown",
   "id": "01ed61f5-275d-4a20-8bf2-fa658b3b30d4",
   "metadata": {},
   "source": [
    "## Контрольнi запитання"
   ]
  },
  {
   "cell_type": "markdown",
   "id": "5e1d250b-d316-423c-ba4c-f078b6a8712a",
   "metadata": {},
   "source": [
    "1.Що таке рядок? Послiдовнiсть символiв.\n",
    "\n",
    "2.Навiщо потрiбен пошук пiдрядка? Для аналiзу тексту, пошуку в базах, компiляцiї.\n",
    "\n",
    "3.Переваги Z-функцiї: швидкий пошук пiдрядкiв, можна використати для стиснення.\n",
    "\n",
    "4.Z-функцiя vs наївний пошук: Z працює швидше (O(n + m)), особливо для великих текстiв.\n",
    "\n",
    "5.Застосування Z-функцiї: пошук зразкiв, виявлення повторiв, стиснення даних."
   ]
  }
 ],
 "metadata": {
  "kernelspec": {
   "display_name": "Python [conda env:base] *",
   "language": "python",
   "name": "conda-base-py"
  },
  "language_info": {
   "codemirror_mode": {
    "name": "ipython",
    "version": 3
   },
   "file_extension": ".py",
   "mimetype": "text/x-python",
   "name": "python",
   "nbconvert_exporter": "python",
   "pygments_lexer": "ipython3",
   "version": "3.12.7"
  }
 },
 "nbformat": 4,
 "nbformat_minor": 5
}
