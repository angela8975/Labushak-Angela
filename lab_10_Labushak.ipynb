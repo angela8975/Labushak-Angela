{
 "cells": [
  {
   "cell_type": "markdown",
   "id": "7015ce14-6f35-4efc-afc4-db015b6a4112",
   "metadata": {},
   "source": [
    "# Лабораторна робота №10"
   ]
  },
  {
   "cell_type": "markdown",
   "id": "8d8e2c5f-8bd4-44ed-84c0-e5e44596ecc1",
   "metadata": {},
   "source": [
    "## Тема: Стиснення даних. Жадібна стратегія на прикладі кодування Гаффмана"
   ]
  },
  {
   "cell_type": "markdown",
   "id": "7f33532b-b1c9-41b3-86ae-fb032588a4da",
   "metadata": {},
   "source": [
    "#### Виконала: Лабущак Анжела  \n",
    "#### Група: КН-24-1  "
   ]
  },
  {
   "cell_type": "markdown",
   "id": "820a1643-6a66-4b04-9228-3b86c516c638",
   "metadata": {},
   "source": [
    "## 1. Побудова таблицi частот"
   ]
  },
  {
   "cell_type": "code",
   "execution_count": 7,
   "id": "bb0e7e86-873b-4728-8bfe-71598e2c05bc",
   "metadata": {},
   "outputs": [
    {
     "name": "stdout",
     "output_type": "stream",
     "text": [
      "Counter({'e': 4, 'b': 3, 'p': 2, ' ': 2, 'o': 2, 'r': 1, '!': 1})\n"
     ]
    }
   ],
   "source": [
    "from collections import Counter\n",
    "text = \"beep boop beer!\"\n",
    "freq = Counter(text)\n",
    "print(freq)"
   ]
  },
  {
   "cell_type": "markdown",
   "id": "3a63100f-35f2-41d2-ba2c-9a249ea54d60",
   "metadata": {},
   "source": [
    "## 2. Реалiзацiя кодування Гаффмана"
   ]
  },
  {
   "cell_type": "code",
   "execution_count": 10,
   "id": "43a99c00-d2bc-4a29-b8d2-186ca5745d36",
   "metadata": {},
   "outputs": [],
   "source": [
    "import heapq\n",
    "\n",
    "class Node:\n",
    "    def __init__(self, char, freq):\n",
    "        self.char = char\n",
    "        self.freq = freq\n",
    "        self.left = None\n",
    "        self.right = None\n",
    "    def __lt__(self, other):\n",
    "        return self.freq < other.freq\n",
    "\n",
    "def build_huffman_tree(freq_dict):\n",
    "    heap = [Node(char, freq) for char, freq in freq_dict.items()]\n",
    "    heapq.heapify(heap)\n",
    "\n",
    "    while len(heap) > 1:\n",
    "        left = heapq.heappop(heap)\n",
    "        right = heapq.heappop(heap)\n",
    "        merged = Node(None, left.freq + right.freq)\n",
    "        merged.left = left\n",
    "        merged.right = right\n",
    "        heapq.heappush(heap, merged)\n",
    "    return heap[0]\n",
    "\n",
    "def generate_codes(node, prefix=\"\", code_dict={}):\n",
    "    if node:\n",
    "        if node.char:\n",
    "            code_dict[node.char] = prefix\n",
    "        generate_codes(node.left, prefix + \"0\", code_dict)\n",
    "        generate_codes(node.right, prefix + \"1\", code_dict)\n",
    "    return code_dict"
   ]
  },
  {
   "cell_type": "code",
   "execution_count": null,
   "id": "23e4a3e7-3674-44a8-9077-40c9905bd72a",
   "metadata": {},
   "outputs": [],
   "source": [
    "## 3. Кодування i декодування"
   ]
  }
 ],
 "metadata": {
  "kernelspec": {
   "display_name": "Python [conda env:base] *",
   "language": "python",
   "name": "conda-base-py"
  },
  "language_info": {
   "codemirror_mode": {
    "name": "ipython",
    "version": 3
   },
   "file_extension": ".py",
   "mimetype": "text/x-python",
   "name": "python",
   "nbconvert_exporter": "python",
   "pygments_lexer": "ipython3",
   "version": "3.12.7"
  }
 },
 "nbformat": 4,
 "nbformat_minor": 5
}
