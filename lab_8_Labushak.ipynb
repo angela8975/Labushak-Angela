{
 "cells": [
  {
   "cell_type": "markdown",
   "id": "b153a1ba-ca64-452d-a666-b5ab49876a6c",
   "metadata": {},
   "source": [
    "# Лабораторна робота №8"
   ]
  },
  {
   "cell_type": "markdown",
   "id": "c25695a9-9479-462b-a4c5-13d2a05abba4",
   "metadata": {},
   "source": [
    "## Тема: Структура даних граф. Алгоритми на графах"
   ]
  },
  {
   "cell_type": "markdown",
   "id": "48f94991-da20-4155-85e3-51a4efa2bed5",
   "metadata": {},
   "source": [
    "#### Виконала: Лабущак Анжела  \n",
    "#### Група: КН-24-1  "
   ]
  },
  {
   "cell_type": "markdown",
   "id": "6322f5d2-9baa-444e-8af2-2ea5dfb334c0",
   "metadata": {},
   "source": [
    "## 1. Побудова графа та його вiзуалiзацiя"
   ]
  },
  {
   "cell_type": "code",
   "execution_count": 7,
   "id": "7eb5b569-1d6f-472e-8ea2-e73abb7d674a",
   "metadata": {},
   "outputs": [
    {
     "data": {
      "image/png": "[encoded data removed]",
      "text/plain": [
       "<Figure size 640x480 with 1 Axes>"
      ]
     },
     "metadata": {},
     "output_type": "display_data"
    }
   ],
   "source": [
    "import networkx as nx\n",
    "import matplotlib.pyplot as plt\n",
    "\n",
    "G = nx.Graph()\n",
    "G.add_nodes_from(['A', 'B', 'C', 'D', 'E', 'F'])\n",
    "G.add_edges_from([('A', 'B'), ('A', 'C'), ('B', 'D'), ('B', 'E'), ('C', 'F'), ('E', 'F')])\n",
    "\n",
    "pos = nx.spring_layout(G)\n",
    "nx.draw_networkx(G, pos, node_size=700, font_size=20, font_family='sans-serif')\n",
    "plt.show()"
   ]
  },
  {
   "cell_type": "markdown",
   "id": "ab85dd76-5ad1-463a-89f0-2f46d3bf46ba",
   "metadata": {},
   "source": [
    "## 2. DFS: обходи та шляхи"
   ]
  },
  {
   "cell_type": "code",
   "execution_count": 10,
   "id": "e7f05b18-1863-4997-8206-4736508a1b55",
   "metadata": {},
   "outputs": [
    {
     "data": {
      "text/plain": [
       "[['C', 'A', 'B', 'E', 'F'], ['C', 'F']]"
      ]
     },
     "execution_count": 10,
     "metadata": {},
     "output_type": "execute_result"
    }
   ],
   "source": [
    "def dfs(graph, start, visited=None):\n",
    "    if visited is None:\n",
    "        visited = set()\n",
    "    visited.add(start)\n",
    "    for next in set(graph.adj[start].keys()) - visited:\n",
    "        dfs(graph, next, visited)\n",
    "    return visited\n",
    "\n",
    "dfs(G, 'C')\n",
    "\n",
    "# Шляхи\n",
    "\n",
    "def dfs_paths(graph, start, goal, path=None):\n",
    "    if path is None:\n",
    "        path = [start]\n",
    "    if start == goal:\n",
    "        yield path\n",
    "    for next in set(graph.adj[start].keys()) - set(path):\n",
    "        yield from dfs_paths(graph, next, goal, path + [next])\n",
    "\n",
    "list(dfs_paths(G, 'C', 'F'))"
   ]
  },
  {
   "cell_type": "markdown",
   "id": "6be21fb4-24bb-491b-881c-a44c6e34ab6c",
   "metadata": {},
   "source": [
    "## 3. BFS: пошук у ширину"
   ]
  },
  {
   "cell_type": "code",
   "execution_count": 13,
   "id": "79e3e004-f97d-4f50-94c2-68a4092e26f2",
   "metadata": {},
   "outputs": [
    {
     "data": {
      "text/plain": [
       "[['A', 'C', 'F'], ['A', 'B', 'E', 'F']]"
      ]
     },
     "execution_count": 13,
     "metadata": {},
     "output_type": "execute_result"
    }
   ],
   "source": [
    "def bfs_paths(graph, start, goal):\n",
    "    queue = [(start, [start])]\n",
    "    while queue:\n",
    "        (vertex, path) = queue.pop(0)\n",
    "        for next in set(graph.adj[vertex].keys()) - set(path):\n",
    "            if next == goal:\n",
    "                yield path + [next]\n",
    "            else:\n",
    "                queue.append((next, path + [next]))\n",
    "\n",
    "list(bfs_paths(G, 'A', 'F'))"
   ]
  },
  {
   "cell_type": "markdown",
   "id": "5d504cf2-27b5-462a-9cb1-cabe48ab1088",
   "metadata": {},
   "source": [
    "## 4. Дейкстра"
   ]
  },
  {
   "cell_type": "code",
   "execution_count": 16,
   "id": "5296697c-7204-4eb2-a408-6fd05aa7fb8d",
   "metadata": {},
   "outputs": [
    {
     "name": "stdout",
     "output_type": "stream",
     "text": [
      "{0: 0, 1: 1, 2: 2, 3: 3, 4: 4}\n"
     ]
    }
   ],
   "source": [
    "G = nx.path_graph(5)\n",
    "length, path = nx.single_source_dijkstra(G, 0)\n",
    "print(length)"
   ]
  },
  {
   "cell_type": "markdown",
   "id": "0db5305a-6ee1-47e1-8eef-b1526217c172",
   "metadata": {},
   "source": [
    "## 5. Беллман-Форд"
   ]
  },
  {
   "cell_type": "code",
   "execution_count": 19,
   "id": "c7391138-aedb-4bea-9aa2-7e79d5e189ef",
   "metadata": {},
   "outputs": [
    {
     "name": "stdout",
     "output_type": "stream",
     "text": [
      "{0: 0, 1: 1, 2: 2, 3: 3, 4: 4}\n"
     ]
    }
   ],
   "source": [
    "length = nx.single_source_bellman_ford_path_length(G, 0)\n",
    "print(length)"
   ]
  },
  {
   "cell_type": "code",
   "execution_count": null,
   "id": "61694b55-fc35-411c-bbe0-b5e6b0ec530d",
   "metadata": {},
   "outputs": [],
   "source": [
    "Контрольнi запитання"
   ]
  }
 ],
 "metadata": {
  "kernelspec": {
   "display_name": "Python [conda env:base] *",
   "language": "python",
   "name": "conda-base-py"
  },
  "language_info": {
   "codemirror_mode": {
    "name": "ipython",
    "version": 3
   },
   "file_extension": ".py",
   "mimetype": "text/x-python",
   "name": "python",
   "nbconvert_exporter": "python",
   "pygments_lexer": "ipython3",
   "version": "3.12.7"
  }
 },
 "nbformat": 4,
 "nbformat_minor": 5
}
